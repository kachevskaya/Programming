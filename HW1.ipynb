{
 "cells": [
  {
   "cell_type": "code",
   "execution_count": null,
   "metadata": {},
   "outputs": [],
   "source": [
    "# №1\n",
    "# О(1), так как не зависимо от того, какого размера массив, получение его размера будет всега выполняться с одной скоростью\n"
   ]
  },
  {
   "cell_type": "code",
   "execution_count": null,
   "metadata": {},
   "outputs": [],
   "source": [
    "# №2\n",
    "# О(n^2), так как мы сначала проходимся по всем элементам n вложенного цикла, а после - по все элементам второго цикла"
   ]
  },
  {
   "cell_type": "code",
   "execution_count": null,
   "metadata": {},
   "outputs": [],
   "source": [
    "# №3\n",
    "# O(n), так как мы можем преобразовать это в n расчетных циклов"
   ]
  },
  {
   "cell_type": "code",
   "execution_count": null,
   "metadata": {},
   "outputs": [],
   "source": [
    "# №4\n",
    "# О(n*(2^n)*1)"
   ]
  },
  {
   "cell_type": "code",
   "execution_count": 20,
   "metadata": {},
   "outputs": [
    {
     "name": "stdout",
     "output_type": "stream",
     "text": [
      "3\n",
      "3\n"
     ]
    }
   ],
   "source": [
    "# №5\n",
    "# изначально О(n^2)\n",
    "\n",
    "def find_duplicate(arr):\n",
    "    for i in range(len(arr)):\n",
    "        for j in range(i + 1, len(arr)):\n",
    "            if arr[i] == arr[j]:\n",
    "                return arr[i]\n",
    "            \n",
    "l = [4, 2, 3, 3, 8]\n",
    "print(find_duplicate(l))   \n",
    "\n",
    "\n",
    "def find_duplicate1(arr):\n",
    "    for i in range(len(arr) - 1):  \n",
    "        if arr[i] == arr[i + 1]:\n",
    "            return arr[i]\n",
    "     \n",
    "l = [4, 2, 3, 3, 8]\n",
    "print(find_duplicate1(l))"
   ]
  }
 ],
 "metadata": {
  "kernelspec": {
   "display_name": "base",
   "language": "python",
   "name": "python3"
  },
  "language_info": {
   "codemirror_mode": {
    "name": "ipython",
    "version": 3
   },
   "file_extension": ".py",
   "mimetype": "text/x-python",
   "name": "python",
   "nbconvert_exporter": "python",
   "pygments_lexer": "ipython3",
   "version": "3.12.3"
  }
 },
 "nbformat": 4,
 "nbformat_minor": 2
}
