{
 "cells": [
  {
   "cell_type": "code",
   "execution_count": null,
   "metadata": {},
   "outputs": [
    {
     "name": "stdout",
     "output_type": "stream",
     "text": [
      "3\n"
     ]
    }
   ],
   "source": [
    "# №1\n",
    "\n",
    "def first_element(a):\n",
    "    return a[0]\n",
    "\n",
    "list = [3,1,8,2,3]\n",
    "print (first_element(list))\n",
    "\n",
    "# О(1)"
   ]
  },
  {
   "cell_type": "code",
   "execution_count": 6,
   "metadata": {},
   "outputs": [
    {
     "name": "stdout",
     "output_type": "stream",
     "text": [
      "0\n"
     ]
    }
   ],
   "source": [
    "# №2\n",
    "\n",
    "def linear_search(list, a):\n",
    "    i = 0\n",
    "    while i < len(list):\n",
    "        if list[i] == a:\n",
    "            return i\n",
    "        else:\n",
    "            i = i + 1\n",
    "    return False\n",
    "\n",
    "l = [1,2,3,3,4]\n",
    "print(linear_search(l,1))\n",
    "\n",
    "# В налучшем случае О(1), в наихудшем О(n)"
   ]
  },
  {
   "cell_type": "code",
   "execution_count": null,
   "metadata": {},
   "outputs": [
    {
     "name": "stdout",
     "output_type": "stream",
     "text": [
      "2\n"
     ]
    }
   ],
   "source": [
    "# №3\n",
    "\n",
    "def search(a, i):\n",
    "    left = 0\n",
    "    right = len(a)\n",
    "    while left<right:\n",
    "        mid = (left+right)//2 \n",
    "        pos = a[mid]\n",
    "        \n",
    "        if pos == i:\n",
    "            return mid\n",
    "        elif pos < i:\n",
    "            left = mid+1\n",
    "        else:\n",
    "            right = mid-1\n",
    "\n",
    "\n",
    "l = [1,2,3,3,4,6]\n",
    "print(search(l,3))\n",
    "\n",
    "# O(log(n)), так как мы не проходимся по каждому элементу, но и не наблюдаем сортировки в сортировке"
   ]
  },
  {
   "cell_type": "code",
   "execution_count": 59,
   "metadata": {},
   "outputs": [
    {
     "name": "stdout",
     "output_type": "stream",
     "text": [
      "4\n"
     ]
    }
   ],
   "source": [
    "# №4\n",
    "\n",
    "def search(a, i):\n",
    "    left = 0\n",
    "    right = len(a)-1\n",
    "    if a[left]>=i and a[right]<=i:\n",
    "        return None\n",
    "    \n",
    "    while left<=right:\n",
    "        mid = left+((i - a[left])*(right - left)) // (a[right] - a[left])\n",
    "        pos = a[mid]\n",
    "        \n",
    "        if mid<left or mid > right:\n",
    "            return None\n",
    "\n",
    "        if pos == i:\n",
    "            return mid\n",
    "        elif pos < i:\n",
    "            left=mid+1\n",
    "        else:\n",
    "            right=mid-1\n",
    "\n",
    "\n",
    "l = [1,2,3,3,5,6]\n",
    "print(search(l,5))"
   ]
  },
  {
   "cell_type": "code",
   "execution_count": 78,
   "metadata": {},
   "outputs": [
    {
     "name": "stdout",
     "output_type": "stream",
     "text": [
      "kj\n",
      "[2, 3]\n"
     ]
    }
   ],
   "source": [
    "def compute_prefix_function(letters):\n",
    "    pi = [0]*len(letters)\n",
    "    j = 0\n",
    "    i = 1\n",
    "    while i <= (len(letters) - 1):\n",
    "        if letters[j] == letters[i]:\n",
    "            pi[i] = j + 1\n",
    "            i += 1\n",
    "            j += 1\n",
    "        else:\n",
    "            if j == 0:\n",
    "                pi[i] = 0\n",
    "                i += 1\n",
    "            else: \n",
    "                j = pi[j-1]\n",
    "    return pi\n",
    "\n",
    "text = 'sjdhfgakjhsdgfkad'\n",
    "compute_prefix_function(text)\n",
    "\n",
    "def kmp_search(text, letters):\n",
    "    pi = compute_prefix_function(letters)\n",
    "    i = 0\n",
    "    j = 0\n",
    "    result = []\n",
    "\n",
    "    while i <= len(text) - 1:\n",
    "        if text[i] == letters[j]:\n",
    "            if j == len(letters) - 1:\n",
    "                result.append(i - len(letters) + 1)\n",
    "                i += 1\n",
    "            else:\n",
    "                i += 1\n",
    "                j += 1\n",
    "        elif text[i] != letters[j]:\n",
    "            if j == 0:\n",
    "                i += 1\n",
    "            else:\n",
    "                j = pi[j-1]\n",
    "\n",
    "    if len(result) != 0:\n",
    "        return result\n",
    "    return None\n",
    "\n",
    "\n",
    "text = 'askjhdgfkjhsdgfkshdgf'\n",
    "letters= \"kj\"\n",
    "\n",
    "result = search(text, letters)\n",
    "print(result)"
   ]
  }
 ],
 "metadata": {
  "kernelspec": {
   "display_name": "base",
   "language": "python",
   "name": "python3"
  },
  "language_info": {
   "codemirror_mode": {
    "name": "ipython",
    "version": 3
   },
   "file_extension": ".py",
   "mimetype": "text/x-python",
   "name": "python",
   "nbconvert_exporter": "python",
   "pygments_lexer": "ipython3",
   "version": "3.12.3"
  }
 },
 "nbformat": 4,
 "nbformat_minor": 2
}
