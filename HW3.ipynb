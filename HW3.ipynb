{
 "cells": [
  {
   "cell_type": "code",
   "execution_count": 6,
   "metadata": {},
   "outputs": [
    {
     "name": "stdout",
     "output_type": "stream",
     "text": [
      "['support@mail.com', 'user_123@gmail.com']\n"
     ]
    }
   ],
   "source": [
    "# №1\n",
    "import re\n",
    "\n",
    "text = \"Контакты: support@mail.com, user_123@gmail.com, invalid-email@com\"\n",
    "print(re.findall(r'\\w+@\\w+\\.\\w+', text))"
   ]
  },
  {
   "cell_type": "code",
   "execution_count": 9,
   "metadata": {},
   "outputs": [
    {
     "name": "stdout",
     "output_type": "stream",
     "text": [
      "['+79161234567', '+7 (999) 123-45-67']\n"
     ]
    }
   ],
   "source": [
    "# №2\n",
    "import re\n",
    "\n",
    "text = \"Мои номера: +7 (999) 123-45-67, +79161234567, 123456.\"\n",
    "print(re.findall(r\"\\+[0-9]{11}\", text) + re.findall(r\"\\+7 \\([0-9]{3}\\) [0-9]{3}-[0-9]{2}-[0-9]{2}\", text))"
   ]
  },
  {
   "cell_type": "code",
   "execution_count": 2,
   "metadata": {},
   "outputs": [
    {
     "name": "stdout",
     "output_type": "stream",
     "text": [
      "['12.05.2023', '01.01.2020']\n"
     ]
    }
   ],
   "source": [
    "# №3\n",
    "import re\n",
    "\n",
    "text = \"События: 12.05.2023, 01.01.2020, 31-12-2019, 32.12.2022.\"\n",
    "matches = re.findall(r\"\\b(0[1-9]|[12][0-9]|3[01])\\.([0-1]{1}[1-9]{1})\\.([1-9]{1}[0-9]{3})\\b\", text)\n",
    "\n",
    "dates = [f\"{day}.{month}.{year}\" for (day, month, year) in matches]\n",
    "\n",
    "print(dates)\n"
   ]
  },
  {
   "cell_type": "code",
   "execution_count": 19,
   "metadata": {},
   "outputs": [
    {
     "name": "stdout",
     "output_type": "stream",
     "text": [
      "['Password1']\n"
     ]
    }
   ],
   "source": [
    "# №4\n",
    "import re\n",
    "\n",
    "text = [\"Password1\", \"weak\", \"STRONGPASS123\", \"P@ssword\"]\n",
    "rules = r'^(?=.*\\d)(?=.*[A-Z])(?=.*[a-z]).{8,9}$'\n",
    "print([x for x in text if re.findall(rules, x)])"
   ]
  },
  {
   "cell_type": "code",
   "execution_count": 33,
   "metadata": {},
   "outputs": [
    {
     "name": "stdout",
     "output_type": "stream",
     "text": [
      "Привет, мир!\n"
     ]
    }
   ],
   "source": [
    "# №5\n",
    "import re\n",
    "\n",
    "html = \"<p>Привет, <b>мир</b>!</p>\"\n",
    "print(re.sub(r'<[^<]+>', '', html))"
   ]
  }
 ],
 "metadata": {
  "kernelspec": {
   "display_name": "base",
   "language": "python",
   "name": "python3"
  },
  "language_info": {
   "codemirror_mode": {
    "name": "ipython",
    "version": 3
   },
   "file_extension": ".py",
   "mimetype": "text/x-python",
   "name": "python",
   "nbconvert_exporter": "python",
   "pygments_lexer": "ipython3",
   "version": "3.12.3"
  }
 },
 "nbformat": 4,
 "nbformat_minor": 2
}
