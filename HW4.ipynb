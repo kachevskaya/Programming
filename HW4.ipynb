{
 "cells": [
  {
   "cell_type": "code",
   "execution_count": 21,
   "metadata": {},
   "outputs": [
    {
     "ename": "TypeError",
     "evalue": "'list' object is not callable",
     "output_type": "error",
     "traceback": [
      "\u001b[1;31m---------------------------------------------------------------------------\u001b[0m",
      "\u001b[1;31mTypeError\u001b[0m                                 Traceback (most recent call last)",
      "Cell \u001b[1;32mIn[21], line 4\u001b[0m\n\u001b[0;32m      1\u001b[0m \u001b[38;5;66;03m# №1\u001b[39;00m\n\u001b[0;32m      3\u001b[0m a \u001b[38;5;241m=\u001b[39m [\u001b[38;5;241m5\u001b[39m,\u001b[38;5;241m3\u001b[39m,\u001b[38;5;241m8\u001b[39m,\u001b[38;5;241m4\u001b[39m,\u001b[38;5;241m2\u001b[39m]\n\u001b[1;32m----> 4\u001b[0m \u001b[38;5;28mprint\u001b[39m(\u001b[38;5;28msorted\u001b[39m(a))\n",
      "\u001b[1;31mTypeError\u001b[0m: 'list' object is not callable"
     ]
    }
   ],
   "source": [
    "# №1\n",
    "\n",
    "a = [5,3,8,4,2]\n",
    "print(sorted(a))\n"
   ]
  },
  {
   "cell_type": "code",
   "execution_count": 7,
   "metadata": {},
   "outputs": [
    {
     "name": "stdout",
     "output_type": "stream",
     "text": [
      "Метод пузырька: [2, 3, 4, 5, 8]\n"
     ]
    }
   ],
   "source": [
    "# №2\n",
    "\n",
    "massive = [5,3,8,4,2]\n",
    "\n",
    "\n",
    "n = len(massive)\n",
    "for i in range(n):\n",
    "    \n",
    "    for j in range(0, n-i-1):\n",
    "        \n",
    "        if massive[j] > massive[j+1]:\n",
    "            massive[j], massive[j+1] = massive[j+1], massive[j]\n",
    "\n",
    "print(\"Метод пузырька:\", massive)"
   ]
  },
  {
   "cell_type": "code",
   "execution_count": null,
   "metadata": {},
   "outputs": [
    {
     "name": "stdout",
     "output_type": "stream",
     "text": [
      "Метод шейкера: [2, 3, 4, 5, 8]\n"
     ]
    }
   ],
   "source": [
    "# №3\n",
    "\n",
    "massive = [5,3,8,4,2]\n",
    "\n",
    "n = len(massive)\n",
    "left = 0\n",
    "right = n - 1\n",
    "while left <= right:\n",
    "    \n",
    "    for i in range(left, right):\n",
    "        if massive[i] > massive[i + 1]:\n",
    "            massive[i], massive[i + 1] = massive[i + 1], massive[i]\n",
    "    right -= 1  \n",
    "\n",
    "    for i in range(right, left, -1):\n",
    "        if massive[i - 1] > massive[i]:\n",
    "            massive[i], massive[i - 1] = massive[i - 1], massive[i]\n",
    "    left += 1  \n",
    "print(\"Метод шейкера:\", massive)\n"
   ]
  },
  {
   "cell_type": "code",
   "execution_count": null,
   "metadata": {},
   "outputs": [
    {
     "name": "stdout",
     "output_type": "stream",
     "text": [
      "Метод слияния: [2, 3, 4, 5, 8]\n"
     ]
    }
   ],
   "source": [
    "# №4\n",
    "\n",
    "def merge(left, right):\n",
    "    result = []\n",
    "    i = j = 0\n",
    "    while i < len(left) and j < len(right):\n",
    "        if left[i] < right[j]:\n",
    "            result.append(left[i])\n",
    "            i += 1\n",
    "        else:\n",
    "            result.append(right[j])\n",
    "            j += 1\n",
    "    \n",
    "    result += left[i:]\n",
    "    result += right[j:]\n",
    "    return result\n",
    "    \n",
    "# Функция для сортировки слиянием\n",
    "def merge_sort(massive):\n",
    "    if len(massive) <= 1:\n",
    "        return massive\n",
    "    \n",
    "    mid = len(massive) // 2\n",
    "    left = merge_sort(massive[:mid])  \n",
    "    right = merge_sort(massive[mid:])  \n",
    "    return merge(left, right)\n",
    "\n",
    "\n",
    "massive = [5,3,8,4,2]\n",
    "\n",
    "\n",
    "sorted = merge_sort(massive)\n",
    "print(\"Метод слияния:\", sorted)"
   ]
  },
  {
   "cell_type": "code",
   "execution_count": null,
   "metadata": {},
   "outputs": [
    {
     "name": "stdout",
     "output_type": "stream",
     "text": [
      "Быстрая сортировка: [-5, 2, 3, 4, 8]\n"
     ]
    }
   ],
   "source": [
    "# №5\n",
    "\n",
    "def quick(massive):\n",
    "    \n",
    "    if len(massive) <= 1:\n",
    "        return massive\n",
    "    \n",
    "    opora = massive[0]\n",
    "    \n",
    "    less = [x for x in massive[1:] if x < opora]  \n",
    "    equal = [x for x in massive if x == opora]  \n",
    "    greater = [x for x in massive[1:] if x > opora]  \n",
    "    return quick(less) + equal + quick(greater)\n",
    "\n",
    "massive = [-5,3,8,4,2]\n",
    "\n",
    "sorted = quick(massive)\n",
    "print(\"Быстрая сортировка:\", sorted)"
   ]
  }
 ],
 "metadata": {
  "kernelspec": {
   "display_name": "base",
   "language": "python",
   "name": "python3"
  },
  "language_info": {
   "codemirror_mode": {
    "name": "ipython",
    "version": 3
   },
   "file_extension": ".py",
   "mimetype": "text/x-python",
   "name": "python",
   "nbconvert_exporter": "python",
   "pygments_lexer": "ipython3",
   "version": "3.12.3"
  }
 },
 "nbformat": 4,
 "nbformat_minor": 2
}
