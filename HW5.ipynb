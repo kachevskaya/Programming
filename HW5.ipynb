{
 "cells": [
  {
   "cell_type": "code",
   "execution_count": 1,
   "metadata": {},
   "outputs": [
    {
     "name": "stdout",
     "output_type": "stream",
     "text": [
      "-2 0\n"
     ]
    }
   ],
   "source": [
    "# №1\n",
    "\n",
    "iter = 100 # кол-во тераций\n",
    "x_old = 0\n",
    "a = 0.1 # шаг сходиомсти\n",
    "ee = 1e-4\n",
    "         \n",
    "for i in range(iter):\n",
    "    x_new = x_old - a * (2*x_old + 4)\n",
    "    \n",
    "    if abs(x_new - x_old) < ee:\n",
    "        break\n",
    "    \n",
    "    x_old = x_new\n",
    "    \n",
    "min_value = x_old**2 + 4*x_old + 4\n",
    "\n",
    "print(round(x_old), round(min_value))"
   ]
  },
  {
   "cell_type": "code",
   "execution_count": 3,
   "metadata": {},
   "outputs": [
    {
     "name": "stdout",
     "output_type": "stream",
     "text": [
      "Оптимальное количество товара A: 0.0\n",
      "Оптимальное количество товара B: 100.0\n",
      "Максимальная прибыль: 300.0\n"
     ]
    },
    {
     "name": "stderr",
     "output_type": "stream",
     "text": [
      "C:\\Users\\kache\\AppData\\Local\\Temp\\ipykernel_13960\\1810387974.py:15: DeprecationWarning: `method='simplex'` is deprecated and will be removed in SciPy 1.11.0. Please use one of the HiGHS solvers (e.g. `method='highs'`) in new code.\n",
      "  result = linprog(c, A_ub=A, b_ub=b, bounds=[x_bounds, y_bounds], method='simplex')\n"
     ]
    }
   ],
   "source": [
    "# №2.1\n",
    "\n",
    "\n",
    "from scipy.optimize import linprog\n",
    "# Коэффициенты целевой функции \n",
    "c = [-5, -3]\n",
    "# Матрица коэффициентов ограничений (Ax <= b)\n",
    "A = [[2, 1]]\n",
    "# Вектор правых частей ограничений\n",
    "b = [100]\n",
    "\n",
    "x_bounds = (0, None)\n",
    "y_bounds = (0, None)\n",
    "\n",
    "result = linprog(c, A_ub=A, b_ub=b, bounds=[x_bounds, y_bounds], method='simplex')\n",
    "\n",
    "print(f\"Оптимальное количество товара A: {result.x[0]}\")\n",
    "print(f\"Оптимальное количество товара B: {result.x[1]}\")\n",
    "print(f\"Максимальная прибыль: {-result.fun}\")\n"
   ]
  },
  {
   "cell_type": "code",
   "execution_count": 4,
   "metadata": {},
   "outputs": [
    {
     "name": "stdout",
     "output_type": "stream",
     "text": [
      "Оптимальный набор предметов: [(20, 100), (30, 120)]\n",
      "Максимальная ценность: 220\n"
     ]
    }
   ],
   "source": [
    "# №3\n",
    "\n",
    "\n",
    "def knapsack(items, capacity):\n",
    "    n = len(items)\n",
    "    max_value = 0\n",
    "    best_subset = []\n",
    "\n",
    "    # Перебираем все возможные маски (подмножества)\n",
    "    for m in range(0, 1 << n):  # 1 << n = 2^n\n",
    "        current_weight = 0\n",
    "        current_value = 0\n",
    "        subset = []\n",
    "\n",
    "        for i in range(n):\n",
    "            if (m >> i) & 1:  # Проверяем, включён ли i-й предмет\n",
    "                weight, value = items[i]\n",
    "                current_weight += weight\n",
    "                current_value += value\n",
    "                subset.append(items[i])\n",
    "\n",
    "        if current_weight <= capacity and current_value > max_value:\n",
    "            max_value = current_value\n",
    "            best_subset = subset\n",
    "\n",
    "    return best_subset, max_value\n",
    "\n",
    "items = [(10, 60), (20, 100), (30, 120)]\n",
    "capacity = 50\n",
    "\n",
    "selected, total = knapsack(items, capacity)\n",
    "\n",
    "print(\"Оптимальный набор предметов:\", selected)\n",
    "print(\"Максимальная ценность:\", total)"
   ]
  },
  {
   "cell_type": "code",
   "execution_count": 6,
   "metadata": {},
   "outputs": [
    {
     "name": "stdout",
     "output_type": "stream",
     "text": [
      "Минимальная длина пути: 80\n",
      "Порядок посещения городов: [0, 1, 3, 2, 0]\n"
     ]
    }
   ],
   "source": [
    "# №4\n",
    "\n",
    "\n",
    "import itertools\n",
    "\n",
    "def traveling_salesman(graph):\n",
    "    n = len(graph)\n",
    "    cities = list(range(n))\n",
    "    min_length = float('inf')\n",
    "    best_path = []\n",
    "\n",
    "    # Начинаем с города 0\n",
    "    start = 0\n",
    "    # Перебираем все перестановки остальных городов\n",
    "    for perm in itertools.permutations(cities[1:]):\n",
    "        current_path = [start] + list(perm) + [start]\n",
    "        current_length = 0\n",
    "        valid = True\n",
    "\n",
    "        for i in range(len(current_path) - 1):\n",
    "            a = current_path[i]\n",
    "            b = current_path[i+1]\n",
    "            if graph[a][b] == 0:  \n",
    "                valid = False\n",
    "                break\n",
    "            current_length += graph[a][b]\n",
    "\n",
    "        if valid and current_length < min_length:\n",
    "            min_length = current_length\n",
    "            best_path = current_path\n",
    "\n",
    "    return best_path, min_length\n",
    "\n",
    "# Пример использования\n",
    "graph = [\n",
    "    [0, 10, 15, 20],\n",
    "    [10, 0, 35, 25],\n",
    "    [15, 35, 0, 30],\n",
    "    [20, 25, 30, 0]\n",
    "]\n",
    "\n",
    "path, length = traveling_salesman(graph)\n",
    "\n",
    "print(\"Минимальная длина пути:\", length)\n",
    "print(\"Порядок посещения городов:\", path)"
   ]
  },
  {
   "cell_type": "code",
   "execution_count": 5,
   "metadata": {},
   "outputs": [
    {
     "name": "stdout",
     "output_type": "stream",
     "text": [
      "Накопленная добыча: 2000.00 м³\n"
     ]
    }
   ],
   "source": [
    "# №5\n",
    "\n",
    "import sympy as sp\n",
    "\n",
    "t = sp.symbols('t')\n",
    "Q0 = 100 \n",
    "lambda_ = 0.05  \n",
    "T = 365  \n",
    "\n",
    "# Функция дебита\n",
    "Q = Q0 * sp.exp(-lambda_ * t)\n",
    "\n",
    "integral = sp.integrate(Q, (t, 0, T))\n",
    "\n",
    "# Вывод результата\n",
    "print(f\"Накопленная добыча: {integral.evalf():.2f} м³\")"
   ]
  }
 ],
 "metadata": {
  "kernelspec": {
   "display_name": "base",
   "language": "python",
   "name": "python3"
  },
  "language_info": {
   "codemirror_mode": {
    "name": "ipython",
    "version": 3
   },
   "file_extension": ".py",
   "mimetype": "text/x-python",
   "name": "python",
   "nbconvert_exporter": "python",
   "pygments_lexer": "ipython3",
   "version": "3.12.3"
  }
 },
 "nbformat": 4,
 "nbformat_minor": 2
}
