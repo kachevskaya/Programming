{
 "cells": [
  {
   "cell_type": "code",
   "execution_count": null,
   "metadata": {},
   "outputs": [
    {
     "name": "stdout",
     "output_type": "stream",
     "text": [
      "Считано из файла: Hello\n"
     ]
    }
   ],
   "source": [
    "# №1\n",
    "\n",
    "name = \"1.txt\"\n",
    "data_to_write = \"Hello\"\n",
    "\n",
    "with open(name, 'w', encoding='utf-8') as file:\n",
    "    file.write(data_to_write) \n",
    "\n",
    "with open(name, 'r', encoding='utf-8') as file:\n",
    "    read_data = file.read()  \n",
    "\n",
    "print(\"Считано из файла:\", read_data)"
   ]
  },
  {
   "cell_type": "code",
   "execution_count": null,
   "metadata": {},
   "outputs": [
    {
     "name": "stdout",
     "output_type": "stream",
     "text": [
      "Содержимое CSV-файла:\n",
      "Имя | Возраст\n",
      "Алиса | 30\n",
      "Оля | 25\n",
      "Никита | 40\n"
     ]
    }
   ],
   "source": [
    "# №2\n",
    "\n",
    "import csv\n",
    "\n",
    "csv_filename = \"people.csv\"\n",
    "\n",
    "data = [\n",
    "    [\"Имя\", \"Возраст\"],   \n",
    "    [\"Алиса\", 30],\n",
    "    [\"Оля\", 25],\n",
    "    [\"Никита\", 40]\n",
    "]\n",
    "\n",
    "\n",
    "with open(csv_filename, mode='w', newline='', encoding='utf-8') as file:\n",
    "    writer = csv.writer(file)\n",
    "    writer.writerows(data) \n",
    "\n",
    "\n",
    "read_data = []\n",
    "with open(csv_filename, mode='r', encoding='utf-8') as file:\n",
    "    reader = csv.reader(file)\n",
    "    for row in reader:\n",
    "        read_data.append(row)\n",
    "\n",
    "\n",
    "print(\"Содержимое CSV-файла:\")\n",
    "for row in read_data:\n",
    "    print(\" | \".join(row))\n"
   ]
  },
  {
   "cell_type": "code",
   "execution_count": null,
   "metadata": {},
   "outputs": [
    {
     "name": "stdout",
     "output_type": "stream",
     "text": [
      "Данные из Excel файла:\n",
      "      Имя  Возраст   Город\n",
      "0     Оля       30  Москва\n",
      "1    Паша       25     СПб\n",
      "2  Никита       40  Казань\n"
     ]
    }
   ],
   "source": [
    "# №3\n",
    "\n",
    "import pandas as pd\n",
    "\n",
    "# 1. Создаём данные в виде словаря\n",
    "data = {\n",
    "    \"Имя\": [\"Оля\", \"Паша\", \"Никита\"],\n",
    "    \"Возраст\": [30, 25, 40],\n",
    "    \"Город\": [\"Москва\", \"СПб\", \"Казань\"]\n",
    "}\n",
    "\n",
    "\n",
    "df = pd.DataFrame(data)\n",
    "\n",
    "\n",
    "excel_filename = \"people.xlsx\"\n",
    "df.to_excel(excel_filename, index=False)\n",
    "\n",
    "df_read = pd.read_excel(excel_filename)\n",
    "\n",
    "print(\"Данные из Excel файла:\")\n",
    "print(df_read)"
   ]
  },
  {
   "cell_type": "code",
   "execution_count": null,
   "metadata": {},
   "outputs": [
    {
     "name": "stdout",
     "output_type": "stream",
     "text": [
      "Чтение CSV по чанкам:\n",
      "\n",
      "🔹 Чанк 1 (первые 3 строки):\n",
      "   ID  Значение\n",
      "0   1        10\n",
      "1   2        20\n",
      "2   3        30\n",
      "\n",
      "🔹 Чанк 2 (первые 3 строки):\n",
      "      ID  Значение\n",
      "200  201      2010\n",
      "201  202      2020\n",
      "202  203      2030\n",
      "\n",
      "🔹 Чанк 3 (первые 3 строки):\n",
      "      ID  Значение\n",
      "400  401      4010\n",
      "401  402      4020\n",
      "402  403      4030\n",
      "\n",
      "🔹 Чанк 4 (первые 3 строки):\n",
      "      ID  Значение\n",
      "600  601      6010\n",
      "601  602      6020\n",
      "602  603      6030\n",
      "\n",
      "🔹 Чанк 5 (первые 3 строки):\n",
      "      ID  Значение\n",
      "800  801      8010\n",
      "801  802      8020\n",
      "802  803      8030\n"
     ]
    }
   ],
   "source": [
    "# №4\n",
    "\n",
    "import pandas as pd\n",
    "\n",
    "\n",
    "csv_filename = \"big_data.csv\"\n",
    "\n",
    "data = {\n",
    "    \"ID\": list(range(1, 1001)),  # 1000 строк\n",
    "    \"Значение\": [x * 10 for x in range(1, 1001)]\n",
    "}\n",
    "\n",
    "df = pd.DataFrame(data)\n",
    "df.to_csv(csv_filename, index=False)\n",
    "\n",
    "chunk_size = 200\n",
    "print(\"Чтение CSV по чанкам:\")\n",
    "chunk_number = 1\n",
    "\n",
    "for chunk in pd.read_csv(csv_filename, chunksize=chunk_size):\n",
    "    print(f\"\\n🔹 Чанк {chunk_number} (первые 3 строки):\")\n",
    "    print(chunk.head(3))\n",
    "    chunk_number += 1"
   ]
  },
  {
   "cell_type": "code",
   "execution_count": null,
   "metadata": {},
   "outputs": [
    {
     "name": "stdout",
     "output_type": "stream",
     "text": [
      "Массив интенсивности пикселей (grayscale):\n",
      "[[  1   6  12  18  24  30  37  41  48  53  59  66  72  79  86  90  99 103\n",
      "  109 116 121]\n",
      " [  7  11  17  24  30  36  42  46  54  58  65  72  78  85  91  96 104 108\n",
      "  115 121 126]\n",
      " [ 14  18  25  31  37  43  49  54  61  66  72  79  85  92  99 103 111 115\n",
      "  122 129 133]\n",
      " [ 20  24  30  37  43  49  55  60  67  72  79  85  92  98 105 109 117 121\n",
      "  128 134 139]\n",
      " [ 24  29  35  41  47  54  60  64  73  77  84  90  97 103 110 115 122 126\n",
      "  133 139 144]\n",
      " [ 30  35  41  47  53  59  66  70  79  83  90  97 103 110 116 121 128 132\n",
      "  138 145 150]\n",
      " [ 38  42  48  54  60  67  73  77  86  91  97 104 110 117 124 128 135 139\n",
      "  146 152 157]\n",
      " [ 43  47  54  60  66  72  78  83  92  96 103 110 116 123 129 134 140 144\n",
      "  151 158 162]\n",
      " [ 48  53  59  66  72  79  86  90  98 103 109 115 121 127 134 138 147 151\n",
      "  157 164 169]\n",
      " [ 54  58  65  72  78  85  91  96 104 108 114 121 127 133 139 143 152 156\n",
      "  163 169 174]\n",
      " [ 61  66  72  79  85  92  99 103 111 115 122 128 134 140 146 151 159 163\n",
      "  170 177 181]\n",
      " [ 67  72  79  85  92  98 105 109 117 121 127 134 140 146 152 157 165 169\n",
      "  176 182 187]\n",
      " [ 73  77  84  90  97 103 110 115 121 126 132 138 144 151 157 161 170 174\n",
      "  181 187 192]\n",
      " [ 79  83  90  97 103 110 116 121 127 132 138 144 150 156 163 167 176 180\n",
      "  186 193 198]\n",
      " [ 86  91  97 104 110 117 124 128 135 139 145 151 157 164 170 174 183 187\n",
      "  194 200 205]\n",
      " [ 92  96 103 110 116 123 129 134 140 144 151 157 163 169 175 180 188 192\n",
      "  199 206 210]\n",
      " [ 99 103 110 116 122 128 135 139 147 151 158 164 170 176 183 187 195 200\n",
      "  206 213 217]\n",
      " [104 108 114 120 126 133 139 143 152 156 162 168 174 181 187 191 200 204\n",
      "  211 217 222]\n",
      " [111 115 121 127 133 140 146 150 159 163 169 175 181 188 194 198 207 211\n",
      "  218 224 229]\n",
      " [117 122 128 134 140 147 153 157 165 170 176 182 188 195 201 205 214 218\n",
      "  224 231 236]\n",
      " [122 126 133 139 145 151 157 162 170 174 181 187 193 199 205 210 218 222\n",
      "  229 236 240]]\n"
     ]
    }
   ],
   "source": [
    "# №5\n",
    "\n",
    "from PIL import Image\n",
    "import numpy as np\n",
    "\n",
    "# 1. Создаём изображение 21x21 пиксель в градациях серого ('L' — режим grayscale)\n",
    "size = (21, 21)\n",
    "img = Image.new('L', size)\n",
    "\n",
    "# 2. Заполняем изображение градиентом (по строкам)\n",
    "for y in range(size[1]):\n",
    "    for x in range(size[0]):\n",
    "        intensity = int((x + y) / (2 * size[0]) * 255)\n",
    "        img.putpixel((x, y), intensity)\n",
    "\n",
    "# 3. Сохраняем изображение в формате JPEG\n",
    "jpeg_filename = \"small_image.jpg\"\n",
    "img.save(jpeg_filename, \"JPEG\")\n",
    "\n",
    "# 4. Читаем файл в бинарном режиме\n",
    "with open(jpeg_filename, \"rb\") as f:\n",
    "    binary_data = f.read()\n",
    "\n",
    "# 5. Снова открываем изображение для анализа пикселей\n",
    "img_loaded = Image.open(jpeg_filename).convert(\"L\")  # Преобразуем в grayscale\n",
    "pixel_array = np.array(img_loaded)\n",
    "\n",
    "# 6. Вывод массива интенсивности\n",
    "print(\"Массив интенсивности пикселей (grayscale):\")\n",
    "print(pixel_array)"
   ]
  }
 ],
 "metadata": {
  "kernelspec": {
   "display_name": "base",
   "language": "python",
   "name": "python3"
  },
  "language_info": {
   "codemirror_mode": {
    "name": "ipython",
    "version": 3
   },
   "file_extension": ".py",
   "mimetype": "text/x-python",
   "name": "python",
   "nbconvert_exporter": "python",
   "pygments_lexer": "ipython3",
   "version": "3.12.3"
  }
 },
 "nbformat": 4,
 "nbformat_minor": 2
}
